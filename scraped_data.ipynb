{
 "cells": [
  {
   "cell_type": "markdown",
   "metadata": {},
   "source": [
    "### Imports"
   ]
  },
  {
   "cell_type": "code",
   "execution_count": 33,
   "metadata": {},
   "outputs": [
    {
     "name": "stdout",
     "output_type": "stream",
     "text": [
      "Collecting openpyxl\n",
      "  Downloading openpyxl-3.1.2-py2.py3-none-any.whl (249 kB)\n",
      "                                              0.0/250.0 kB ? eta -:--:--\n",
      "     -----------------------------------    235.5/250.0 kB 7.3 MB/s eta 0:00:01\n",
      "     -------------------------------------- 250.0/250.0 kB 5.1 MB/s eta 0:00:00\n",
      "Collecting et-xmlfile (from openpyxl)\n",
      "  Downloading et_xmlfile-1.1.0-py3-none-any.whl (4.7 kB)\n",
      "Installing collected packages: et-xmlfile, openpyxl\n",
      "Successfully installed et-xmlfile-1.1.0 openpyxl-3.1.2\n",
      "Note: you may need to restart the kernel to use updated packages.\n"
     ]
    }
   ],
   "source": [
    "#Install package\n",
    "#pip install openpyxl"
   ]
  },
  {
   "cell_type": "code",
   "execution_count": 51,
   "metadata": {},
   "outputs": [],
   "source": [
    "from bs4 import BeautifulSoup\n",
    "import requests\n",
    "import pandas as pd\n",
    "import openpyxl"
   ]
  },
  {
   "cell_type": "markdown",
   "metadata": {},
   "source": [
    "### HTTP Request"
   ]
  },
  {
   "cell_type": "markdown",
   "metadata": {},
   "source": [
    "#### store website in variable"
   ]
  },
  {
   "cell_type": "code",
   "execution_count": 4,
   "metadata": {},
   "outputs": [],
   "source": [
    "website = 'https://www.cars.com/shopping/results/?list_price_max=&makes[]=bmw&maximum_distance=all&stock_type=cpo&zip=33613'"
   ]
  },
  {
   "cell_type": "markdown",
   "metadata": {},
   "source": [
    "#### Get Request"
   ]
  },
  {
   "cell_type": "code",
   "execution_count": 5,
   "metadata": {},
   "outputs": [],
   "source": [
    "response = requests.get(website)"
   ]
  },
  {
   "cell_type": "markdown",
   "metadata": {},
   "source": [
    "#### Status Code"
   ]
  },
  {
   "cell_type": "code",
   "execution_count": 6,
   "metadata": {},
   "outputs": [
    {
     "data": {
      "text/plain": [
       "200"
      ]
     },
     "execution_count": 6,
     "metadata": {},
     "output_type": "execute_result"
    }
   ],
   "source": [
    "response.status_code"
   ]
  },
  {
   "cell_type": "markdown",
   "metadata": {},
   "source": [
    "### Soup Object"
   ]
  },
  {
   "cell_type": "code",
   "execution_count": 7,
   "metadata": {},
   "outputs": [],
   "source": [
    "soup = BeautifulSoup(response.content, 'html.parser')"
   ]
  },
  {
   "cell_type": "markdown",
   "metadata": {},
   "source": [
    "### Results"
   ]
  },
  {
   "cell_type": "code",
   "execution_count": 8,
   "metadata": {},
   "outputs": [],
   "source": [
    "results = soup.find_all('div', {'class' : 'vehicle-card'})"
   ]
  },
  {
   "cell_type": "code",
   "execution_count": 9,
   "metadata": {},
   "outputs": [
    {
     "data": {
      "text/plain": [
       "21"
      ]
     },
     "execution_count": 9,
     "metadata": {},
     "output_type": "execute_result"
    }
   ],
   "source": [
    "len(results)"
   ]
  },
  {
   "cell_type": "markdown",
   "metadata": {},
   "source": [
    "### Data required"
   ]
  },
  {
   "cell_type": "code",
   "execution_count": 8,
   "metadata": {},
   "outputs": [],
   "source": [
    "# Name\n",
    "# Mileage\n",
    "# Dealer Name\n",
    "# Rating\n",
    "# Rating Count\n",
    "# Price"
   ]
  },
  {
   "cell_type": "markdown",
   "metadata": {},
   "source": [
    "#### Name"
   ]
  },
  {
   "cell_type": "code",
   "execution_count": 14,
   "metadata": {},
   "outputs": [
    {
     "data": {
      "text/plain": [
       "'2023 BMW M440 Gran Coupe M440i xDrive'"
      ]
     },
     "execution_count": 14,
     "metadata": {},
     "output_type": "execute_result"
    }
   ],
   "source": [
    "results[0].find('h2').get_text()"
   ]
  },
  {
   "cell_type": "markdown",
   "metadata": {},
   "source": [
    "#### Mileage"
   ]
  },
  {
   "cell_type": "code",
   "execution_count": 16,
   "metadata": {},
   "outputs": [
    {
     "data": {
      "text/plain": [
       "'2,103 mi.'"
      ]
     },
     "execution_count": 16,
     "metadata": {},
     "output_type": "execute_result"
    }
   ],
   "source": [
    "results[0].find('div', {'class':'mileage'}).get_text()"
   ]
  },
  {
   "cell_type": "markdown",
   "metadata": {},
   "source": [
    "#### Dealer Name"
   ]
  },
  {
   "cell_type": "code",
   "execution_count": 17,
   "metadata": {},
   "outputs": [
    {
     "data": {
      "text/plain": [
       "'Ferman BMW'"
      ]
     },
     "execution_count": 17,
     "metadata": {},
     "output_type": "execute_result"
    }
   ],
   "source": [
    "results[0].find('div', {'class':'dealer-name'}).get_text().strip()"
   ]
  },
  {
   "cell_type": "markdown",
   "metadata": {},
   "source": [
    "#### Rating"
   ]
  },
  {
   "cell_type": "code",
   "execution_count": 18,
   "metadata": {},
   "outputs": [
    {
     "data": {
      "text/plain": [
       "'4.7'"
      ]
     },
     "execution_count": 18,
     "metadata": {},
     "output_type": "execute_result"
    }
   ],
   "source": [
    "results[0].find('span', {'class':'sds-rating__count'}).get_text()"
   ]
  },
  {
   "cell_type": "markdown",
   "metadata": {},
   "source": [
    "#### Review Count"
   ]
  },
  {
   "cell_type": "code",
   "execution_count": 19,
   "metadata": {},
   "outputs": [
    {
     "data": {
      "text/plain": [
       "'(6,033 reviews)'"
      ]
     },
     "execution_count": 19,
     "metadata": {},
     "output_type": "execute_result"
    }
   ],
   "source": [
    "results[0].find('span', {'class':'sds-rating__link'}).get_text()"
   ]
  },
  {
   "cell_type": "markdown",
   "metadata": {},
   "source": [
    "#### Price"
   ]
  },
  {
   "cell_type": "code",
   "execution_count": 20,
   "metadata": {},
   "outputs": [
    {
     "data": {
      "text/plain": [
       "'$65,400'"
      ]
     },
     "execution_count": 20,
     "metadata": {},
     "output_type": "execute_result"
    }
   ],
   "source": [
    "results[0].find('span', {'class':'primary-price'}).get_text()"
   ]
  },
  {
   "cell_type": "markdown",
   "metadata": {},
   "source": [
    "### Put everything together inside a For-Loop"
   ]
  },
  {
   "cell_type": "code",
   "execution_count": 28,
   "metadata": {},
   "outputs": [],
   "source": [
    "name = []\n",
    "mileage = []\n",
    "dealer_name = []\n",
    "rating = []\n",
    "review_count = []\n",
    "price = []\n",
    "\n",
    "for result in results:\n",
    "    \n",
    "    # name\n",
    "    try:\n",
    "        name.append(result.find('h2').get_text()) \n",
    "    except:\n",
    "        name.append('NULL')\n",
    "    \n",
    "    # mileage\n",
    "    try:\n",
    "        mileage.append(result.find('div', {'class':'mileage'}).get_text())\n",
    "    except:\n",
    "        mileage.append('NULL')\n",
    "    \n",
    "    # dealer_name\n",
    "    try:\n",
    "        dealer_name.append(result.find('div', {'class':'dealer-name'}).get_text().strip())\n",
    "    except:\n",
    "        dealer_name.append('NULL')\n",
    "        \n",
    "    # rating\n",
    "    try:\n",
    "        rating.append(result.find('span', {'class':'sds-rating__count'}).get_text())\n",
    "    except:\n",
    "        rating.append('NULL')\n",
    "    \n",
    "    # review_count\n",
    "    try:\n",
    "        review_count.append(result.find('span', {'class':'sds-rating__link'}).get_text())\n",
    "    except:\n",
    "        review_count.append('NULL')\n",
    "    \n",
    "    #price \n",
    "    try:\n",
    "        price.append(result.find('span', {'class':'primary-price'}).get_text())\n",
    "    except:\n",
    "        price.append('NULL')"
   ]
  },
  {
   "cell_type": "markdown",
   "metadata": {},
   "source": [
    "### Create Pandas Dataframe"
   ]
  },
  {
   "cell_type": "code",
   "execution_count": 29,
   "metadata": {},
   "outputs": [],
   "source": [
    "# dictionary\n",
    "car_dealer = pd.DataFrame({'Name': name, 'Mileage':mileage, 'Dealer Name':dealer_name,\n",
    "                                'Rating': rating, 'Review Count': review_count, 'Price': price})"
   ]
  },
  {
   "cell_type": "code",
   "execution_count": 30,
   "metadata": {},
   "outputs": [
    {
     "data": {
      "text/html": [
       "<div>\n",
       "<style scoped>\n",
       "    .dataframe tbody tr th:only-of-type {\n",
       "        vertical-align: middle;\n",
       "    }\n",
       "\n",
       "    .dataframe tbody tr th {\n",
       "        vertical-align: top;\n",
       "    }\n",
       "\n",
       "    .dataframe thead th {\n",
       "        text-align: right;\n",
       "    }\n",
       "</style>\n",
       "<table border=\"1\" class=\"dataframe\">\n",
       "  <thead>\n",
       "    <tr style=\"text-align: right;\">\n",
       "      <th></th>\n",
       "      <th>Name</th>\n",
       "      <th>Mileage</th>\n",
       "      <th>Dealer Name</th>\n",
       "      <th>Rating</th>\n",
       "      <th>Review Count</th>\n",
       "      <th>Price</th>\n",
       "    </tr>\n",
       "  </thead>\n",
       "  <tbody>\n",
       "    <tr>\n",
       "      <th>0</th>\n",
       "      <td>2023 BMW M440 Gran Coupe M440i xDrive</td>\n",
       "      <td>2,103 mi.</td>\n",
       "      <td>Ferman BMW</td>\n",
       "      <td>4.7</td>\n",
       "      <td>(6,033 reviews)</td>\n",
       "      <td>$65,400</td>\n",
       "    </tr>\n",
       "    <tr>\n",
       "      <th>1</th>\n",
       "      <td>2020 BMW 530e iPerformance</td>\n",
       "      <td>32,522 mi.</td>\n",
       "      <td>Fields BMW of Daytona</td>\n",
       "      <td>4.8</td>\n",
       "      <td>(1,298 reviews)</td>\n",
       "      <td>$34,879</td>\n",
       "    </tr>\n",
       "    <tr>\n",
       "      <th>2</th>\n",
       "      <td>2019 BMW 540 i</td>\n",
       "      <td>37,293 mi.</td>\n",
       "      <td>Fields BMW of Daytona</td>\n",
       "      <td>4.8</td>\n",
       "      <td>(1,298 reviews)</td>\n",
       "      <td>$34,978</td>\n",
       "    </tr>\n",
       "    <tr>\n",
       "      <th>3</th>\n",
       "      <td>2019 BMW 540 i</td>\n",
       "      <td>20,893 mi.</td>\n",
       "      <td>Fields BMW of Daytona</td>\n",
       "      <td>4.8</td>\n",
       "      <td>(1,298 reviews)</td>\n",
       "      <td>$37,479</td>\n",
       "    </tr>\n",
       "    <tr>\n",
       "      <th>4</th>\n",
       "      <td>2020 BMW 740 i</td>\n",
       "      <td>10,706 mi.</td>\n",
       "      <td>BMW of South Atlanta</td>\n",
       "      <td>4.3</td>\n",
       "      <td>(486 reviews)</td>\n",
       "      <td>$54,420</td>\n",
       "    </tr>\n",
       "    <tr>\n",
       "      <th>5</th>\n",
       "      <td>2020 BMW X7 M50i</td>\n",
       "      <td>41,845 mi.</td>\n",
       "      <td>BMW of Sterling</td>\n",
       "      <td>3.9</td>\n",
       "      <td>(1,096 reviews)</td>\n",
       "      <td>$72,000</td>\n",
       "    </tr>\n",
       "    <tr>\n",
       "      <th>6</th>\n",
       "      <td>2022 BMW M550 i xDrive</td>\n",
       "      <td>14,480 mi.</td>\n",
       "      <td>Preston BMW</td>\n",
       "      <td>2.4</td>\n",
       "      <td>(134 reviews)</td>\n",
       "      <td>$71,206</td>\n",
       "    </tr>\n",
       "    <tr>\n",
       "      <th>7</th>\n",
       "      <td>2020 BMW X5 xDrive40i</td>\n",
       "      <td>47,931 mi.</td>\n",
       "      <td>Preston BMW</td>\n",
       "      <td>2.4</td>\n",
       "      <td>(134 reviews)</td>\n",
       "      <td>$44,586</td>\n",
       "    </tr>\n",
       "    <tr>\n",
       "      <th>8</th>\n",
       "      <td>2020 BMW X5 xDrive40i</td>\n",
       "      <td>34,769 mi.</td>\n",
       "      <td>Preston BMW</td>\n",
       "      <td>2.4</td>\n",
       "      <td>(134 reviews)</td>\n",
       "      <td>$50,007</td>\n",
       "    </tr>\n",
       "    <tr>\n",
       "      <th>9</th>\n",
       "      <td>2019 BMW 750 i xDrive</td>\n",
       "      <td>50,663 mi.</td>\n",
       "      <td>Classic BMW Mini Willoughby Hills</td>\n",
       "      <td>4.6</td>\n",
       "      <td>(312 reviews)</td>\n",
       "      <td>$47,474</td>\n",
       "    </tr>\n",
       "    <tr>\n",
       "      <th>10</th>\n",
       "      <td>2021 BMW 330e 330e</td>\n",
       "      <td>11,592 mi.</td>\n",
       "      <td>Perillo BMW</td>\n",
       "      <td>4.7</td>\n",
       "      <td>(623 reviews)</td>\n",
       "      <td>$37,999</td>\n",
       "    </tr>\n",
       "    <tr>\n",
       "      <th>11</th>\n",
       "      <td>2020 BMW 430 Gran Coupe i xDrive</td>\n",
       "      <td>46,914 mi.</td>\n",
       "      <td>Perillo BMW</td>\n",
       "      <td>4.7</td>\n",
       "      <td>(623 reviews)</td>\n",
       "      <td>$32,999</td>\n",
       "    </tr>\n",
       "    <tr>\n",
       "      <th>12</th>\n",
       "      <td>2020 BMW 530 i xDrive</td>\n",
       "      <td>31,510 mi.</td>\n",
       "      <td>Perillo BMW</td>\n",
       "      <td>4.7</td>\n",
       "      <td>(623 reviews)</td>\n",
       "      <td>$37,488</td>\n",
       "    </tr>\n",
       "    <tr>\n",
       "      <th>13</th>\n",
       "      <td>2019 BMW X3 xDrive30i</td>\n",
       "      <td>41,826 mi.</td>\n",
       "      <td>Perillo BMW</td>\n",
       "      <td>4.7</td>\n",
       "      <td>(623 reviews)</td>\n",
       "      <td>$34,488</td>\n",
       "    </tr>\n",
       "    <tr>\n",
       "      <th>14</th>\n",
       "      <td>2022 BMW 530 i xDrive</td>\n",
       "      <td>24,961 mi.</td>\n",
       "      <td>Perillo BMW</td>\n",
       "      <td>4.7</td>\n",
       "      <td>(623 reviews)</td>\n",
       "      <td>$46,488</td>\n",
       "    </tr>\n",
       "    <tr>\n",
       "      <th>15</th>\n",
       "      <td>2021 BMW X2 sDrive28i</td>\n",
       "      <td>34,751 mi.</td>\n",
       "      <td>Perillo BMW</td>\n",
       "      <td>4.7</td>\n",
       "      <td>(623 reviews)</td>\n",
       "      <td>$30,488</td>\n",
       "    </tr>\n",
       "    <tr>\n",
       "      <th>16</th>\n",
       "      <td>2021 BMW 330 i xDrive</td>\n",
       "      <td>29,874 mi.</td>\n",
       "      <td>Perillo BMW</td>\n",
       "      <td>4.7</td>\n",
       "      <td>(623 reviews)</td>\n",
       "      <td>$33,488</td>\n",
       "    </tr>\n",
       "    <tr>\n",
       "      <th>17</th>\n",
       "      <td>2020 BMW X5 xDrive40i</td>\n",
       "      <td>28,533 mi.</td>\n",
       "      <td>Perillo BMW</td>\n",
       "      <td>4.7</td>\n",
       "      <td>(623 reviews)</td>\n",
       "      <td>$47,999</td>\n",
       "    </tr>\n",
       "    <tr>\n",
       "      <th>18</th>\n",
       "      <td>2020 BMW X5 xDrive40i</td>\n",
       "      <td>38,031 mi.</td>\n",
       "      <td>Perillo BMW</td>\n",
       "      <td>4.7</td>\n",
       "      <td>(623 reviews)</td>\n",
       "      <td>$45,488</td>\n",
       "    </tr>\n",
       "    <tr>\n",
       "      <th>19</th>\n",
       "      <td>2019 BMW X5 xDrive40i</td>\n",
       "      <td>37,293 mi.</td>\n",
       "      <td>Perillo BMW</td>\n",
       "      <td>4.7</td>\n",
       "      <td>(623 reviews)</td>\n",
       "      <td>$46,488</td>\n",
       "    </tr>\n",
       "    <tr>\n",
       "      <th>20</th>\n",
       "      <td>2021 BMW X2 sDrive28i</td>\n",
       "      <td>30,296 mi.</td>\n",
       "      <td>Perillo BMW</td>\n",
       "      <td>4.7</td>\n",
       "      <td>(623 reviews)</td>\n",
       "      <td>$30,488</td>\n",
       "    </tr>\n",
       "  </tbody>\n",
       "</table>\n",
       "</div>"
      ],
      "text/plain": [
       "                                     Name     Mileage  \\\n",
       "0   2023 BMW M440 Gran Coupe M440i xDrive   2,103 mi.   \n",
       "1              2020 BMW 530e iPerformance  32,522 mi.   \n",
       "2                          2019 BMW 540 i  37,293 mi.   \n",
       "3                          2019 BMW 540 i  20,893 mi.   \n",
       "4                          2020 BMW 740 i  10,706 mi.   \n",
       "5                        2020 BMW X7 M50i  41,845 mi.   \n",
       "6                  2022 BMW M550 i xDrive  14,480 mi.   \n",
       "7                   2020 BMW X5 xDrive40i  47,931 mi.   \n",
       "8                   2020 BMW X5 xDrive40i  34,769 mi.   \n",
       "9                   2019 BMW 750 i xDrive  50,663 mi.   \n",
       "10                     2021 BMW 330e 330e  11,592 mi.   \n",
       "11       2020 BMW 430 Gran Coupe i xDrive  46,914 mi.   \n",
       "12                  2020 BMW 530 i xDrive  31,510 mi.   \n",
       "13                  2019 BMW X3 xDrive30i  41,826 mi.   \n",
       "14                  2022 BMW 530 i xDrive  24,961 mi.   \n",
       "15                  2021 BMW X2 sDrive28i  34,751 mi.   \n",
       "16                  2021 BMW 330 i xDrive  29,874 mi.   \n",
       "17                  2020 BMW X5 xDrive40i  28,533 mi.   \n",
       "18                  2020 BMW X5 xDrive40i  38,031 mi.   \n",
       "19                  2019 BMW X5 xDrive40i  37,293 mi.   \n",
       "20                  2021 BMW X2 sDrive28i  30,296 mi.   \n",
       "\n",
       "                          Dealer Name Rating     Review Count    Price  \n",
       "0                          Ferman BMW    4.7  (6,033 reviews)  $65,400  \n",
       "1               Fields BMW of Daytona    4.8  (1,298 reviews)  $34,879  \n",
       "2               Fields BMW of Daytona    4.8  (1,298 reviews)  $34,978  \n",
       "3               Fields BMW of Daytona    4.8  (1,298 reviews)  $37,479  \n",
       "4                BMW of South Atlanta    4.3    (486 reviews)  $54,420  \n",
       "5                     BMW of Sterling    3.9  (1,096 reviews)  $72,000  \n",
       "6                         Preston BMW    2.4    (134 reviews)  $71,206  \n",
       "7                         Preston BMW    2.4    (134 reviews)  $44,586  \n",
       "8                         Preston BMW    2.4    (134 reviews)  $50,007  \n",
       "9   Classic BMW Mini Willoughby Hills    4.6    (312 reviews)  $47,474  \n",
       "10                        Perillo BMW    4.7    (623 reviews)  $37,999  \n",
       "11                        Perillo BMW    4.7    (623 reviews)  $32,999  \n",
       "12                        Perillo BMW    4.7    (623 reviews)  $37,488  \n",
       "13                        Perillo BMW    4.7    (623 reviews)  $34,488  \n",
       "14                        Perillo BMW    4.7    (623 reviews)  $46,488  \n",
       "15                        Perillo BMW    4.7    (623 reviews)  $30,488  \n",
       "16                        Perillo BMW    4.7    (623 reviews)  $33,488  \n",
       "17                        Perillo BMW    4.7    (623 reviews)  $47,999  \n",
       "18                        Perillo BMW    4.7    (623 reviews)  $45,488  \n",
       "19                        Perillo BMW    4.7    (623 reviews)  $46,488  \n",
       "20                        Perillo BMW    4.7    (623 reviews)  $30,488  "
      ]
     },
     "execution_count": 30,
     "metadata": {},
     "output_type": "execute_result"
    }
   ],
   "source": [
    "car_dealer"
   ]
  },
  {
   "cell_type": "markdown",
   "metadata": {},
   "source": [
    "#### Data Cleaning"
   ]
  },
  {
   "cell_type": "code",
   "execution_count": 31,
   "metadata": {},
   "outputs": [],
   "source": [
    "car_dealer['Review Count'] = car_dealer['Review Count'].apply(lambda x: x.strip('reviews)').strip('('))"
   ]
  },
  {
   "cell_type": "code",
   "execution_count": 26,
   "metadata": {},
   "outputs": [
    {
     "data": {
      "text/html": [
       "<div>\n",
       "<style scoped>\n",
       "    .dataframe tbody tr th:only-of-type {\n",
       "        vertical-align: middle;\n",
       "    }\n",
       "\n",
       "    .dataframe tbody tr th {\n",
       "        vertical-align: top;\n",
       "    }\n",
       "\n",
       "    .dataframe thead th {\n",
       "        text-align: right;\n",
       "    }\n",
       "</style>\n",
       "<table border=\"1\" class=\"dataframe\">\n",
       "  <thead>\n",
       "    <tr style=\"text-align: right;\">\n",
       "      <th></th>\n",
       "      <th>Name</th>\n",
       "      <th>Mileage</th>\n",
       "      <th>Dealer Name</th>\n",
       "      <th>Rating</th>\n",
       "      <th>Review Count</th>\n",
       "      <th>Price</th>\n",
       "    </tr>\n",
       "  </thead>\n",
       "  <tbody>\n",
       "    <tr>\n",
       "      <th>0</th>\n",
       "      <td>2023 BMW M440 Gran Coupe M440i xDrive</td>\n",
       "      <td>2,103 mi.</td>\n",
       "      <td>Ferman BMW</td>\n",
       "      <td>4.7</td>\n",
       "      <td>6,033</td>\n",
       "      <td>$65,400</td>\n",
       "    </tr>\n",
       "    <tr>\n",
       "      <th>1</th>\n",
       "      <td>2020 BMW 530e iPerformance</td>\n",
       "      <td>32,522 mi.</td>\n",
       "      <td>Fields BMW of Daytona</td>\n",
       "      <td>4.8</td>\n",
       "      <td>1,298</td>\n",
       "      <td>$34,879</td>\n",
       "    </tr>\n",
       "    <tr>\n",
       "      <th>2</th>\n",
       "      <td>2019 BMW 540 i</td>\n",
       "      <td>37,293 mi.</td>\n",
       "      <td>Fields BMW of Daytona</td>\n",
       "      <td>4.8</td>\n",
       "      <td>1,298</td>\n",
       "      <td>$34,978</td>\n",
       "    </tr>\n",
       "    <tr>\n",
       "      <th>3</th>\n",
       "      <td>2019 BMW 540 i</td>\n",
       "      <td>20,893 mi.</td>\n",
       "      <td>Fields BMW of Daytona</td>\n",
       "      <td>4.8</td>\n",
       "      <td>1,298</td>\n",
       "      <td>$37,479</td>\n",
       "    </tr>\n",
       "    <tr>\n",
       "      <th>4</th>\n",
       "      <td>2020 BMW 740 i</td>\n",
       "      <td>10,706 mi.</td>\n",
       "      <td>BMW of South Atlanta</td>\n",
       "      <td>4.3</td>\n",
       "      <td>486</td>\n",
       "      <td>$54,420</td>\n",
       "    </tr>\n",
       "    <tr>\n",
       "      <th>5</th>\n",
       "      <td>2020 BMW X7 M50i</td>\n",
       "      <td>41,845 mi.</td>\n",
       "      <td>BMW of Sterling</td>\n",
       "      <td>3.9</td>\n",
       "      <td>1,096</td>\n",
       "      <td>$72,000</td>\n",
       "    </tr>\n",
       "    <tr>\n",
       "      <th>6</th>\n",
       "      <td>2022 BMW M550 i xDrive</td>\n",
       "      <td>14,480 mi.</td>\n",
       "      <td>Preston BMW</td>\n",
       "      <td>2.4</td>\n",
       "      <td>134</td>\n",
       "      <td>$71,206</td>\n",
       "    </tr>\n",
       "    <tr>\n",
       "      <th>7</th>\n",
       "      <td>2020 BMW X5 xDrive40i</td>\n",
       "      <td>47,931 mi.</td>\n",
       "      <td>Preston BMW</td>\n",
       "      <td>2.4</td>\n",
       "      <td>134</td>\n",
       "      <td>$44,586</td>\n",
       "    </tr>\n",
       "    <tr>\n",
       "      <th>8</th>\n",
       "      <td>2020 BMW X5 xDrive40i</td>\n",
       "      <td>34,769 mi.</td>\n",
       "      <td>Preston BMW</td>\n",
       "      <td>2.4</td>\n",
       "      <td>134</td>\n",
       "      <td>$50,007</td>\n",
       "    </tr>\n",
       "    <tr>\n",
       "      <th>9</th>\n",
       "      <td>2019 BMW 750 i xDrive</td>\n",
       "      <td>50,663 mi.</td>\n",
       "      <td>Classic BMW Mini Willoughby Hills</td>\n",
       "      <td>4.6</td>\n",
       "      <td>312</td>\n",
       "      <td>$47,474</td>\n",
       "    </tr>\n",
       "    <tr>\n",
       "      <th>10</th>\n",
       "      <td>2021 BMW 330e 330e</td>\n",
       "      <td>11,592 mi.</td>\n",
       "      <td>Perillo BMW</td>\n",
       "      <td>4.7</td>\n",
       "      <td>623</td>\n",
       "      <td>$37,999</td>\n",
       "    </tr>\n",
       "    <tr>\n",
       "      <th>11</th>\n",
       "      <td>2020 BMW 430 Gran Coupe i xDrive</td>\n",
       "      <td>46,914 mi.</td>\n",
       "      <td>Perillo BMW</td>\n",
       "      <td>4.7</td>\n",
       "      <td>623</td>\n",
       "      <td>$32,999</td>\n",
       "    </tr>\n",
       "    <tr>\n",
       "      <th>12</th>\n",
       "      <td>2020 BMW 530 i xDrive</td>\n",
       "      <td>31,510 mi.</td>\n",
       "      <td>Perillo BMW</td>\n",
       "      <td>4.7</td>\n",
       "      <td>623</td>\n",
       "      <td>$37,488</td>\n",
       "    </tr>\n",
       "    <tr>\n",
       "      <th>13</th>\n",
       "      <td>2019 BMW X3 xDrive30i</td>\n",
       "      <td>41,826 mi.</td>\n",
       "      <td>Perillo BMW</td>\n",
       "      <td>4.7</td>\n",
       "      <td>623</td>\n",
       "      <td>$34,488</td>\n",
       "    </tr>\n",
       "    <tr>\n",
       "      <th>14</th>\n",
       "      <td>2022 BMW 530 i xDrive</td>\n",
       "      <td>24,961 mi.</td>\n",
       "      <td>Perillo BMW</td>\n",
       "      <td>4.7</td>\n",
       "      <td>623</td>\n",
       "      <td>$46,488</td>\n",
       "    </tr>\n",
       "    <tr>\n",
       "      <th>15</th>\n",
       "      <td>2021 BMW X2 sDrive28i</td>\n",
       "      <td>34,751 mi.</td>\n",
       "      <td>Perillo BMW</td>\n",
       "      <td>4.7</td>\n",
       "      <td>623</td>\n",
       "      <td>$30,488</td>\n",
       "    </tr>\n",
       "    <tr>\n",
       "      <th>16</th>\n",
       "      <td>2021 BMW 330 i xDrive</td>\n",
       "      <td>29,874 mi.</td>\n",
       "      <td>Perillo BMW</td>\n",
       "      <td>4.7</td>\n",
       "      <td>623</td>\n",
       "      <td>$33,488</td>\n",
       "    </tr>\n",
       "    <tr>\n",
       "      <th>17</th>\n",
       "      <td>2020 BMW X5 xDrive40i</td>\n",
       "      <td>28,533 mi.</td>\n",
       "      <td>Perillo BMW</td>\n",
       "      <td>4.7</td>\n",
       "      <td>623</td>\n",
       "      <td>$47,999</td>\n",
       "    </tr>\n",
       "    <tr>\n",
       "      <th>18</th>\n",
       "      <td>2020 BMW X5 xDrive40i</td>\n",
       "      <td>38,031 mi.</td>\n",
       "      <td>Perillo BMW</td>\n",
       "      <td>4.7</td>\n",
       "      <td>623</td>\n",
       "      <td>$45,488</td>\n",
       "    </tr>\n",
       "    <tr>\n",
       "      <th>19</th>\n",
       "      <td>2019 BMW X5 xDrive40i</td>\n",
       "      <td>37,293 mi.</td>\n",
       "      <td>Perillo BMW</td>\n",
       "      <td>4.7</td>\n",
       "      <td>623</td>\n",
       "      <td>$46,488</td>\n",
       "    </tr>\n",
       "    <tr>\n",
       "      <th>20</th>\n",
       "      <td>2021 BMW X2 sDrive28i</td>\n",
       "      <td>30,296 mi.</td>\n",
       "      <td>Perillo BMW</td>\n",
       "      <td>4.7</td>\n",
       "      <td>623</td>\n",
       "      <td>$30,488</td>\n",
       "    </tr>\n",
       "  </tbody>\n",
       "</table>\n",
       "</div>"
      ],
      "text/plain": [
       "                                     Name     Mileage  \\\n",
       "0   2023 BMW M440 Gran Coupe M440i xDrive   2,103 mi.   \n",
       "1              2020 BMW 530e iPerformance  32,522 mi.   \n",
       "2                          2019 BMW 540 i  37,293 mi.   \n",
       "3                          2019 BMW 540 i  20,893 mi.   \n",
       "4                          2020 BMW 740 i  10,706 mi.   \n",
       "5                        2020 BMW X7 M50i  41,845 mi.   \n",
       "6                  2022 BMW M550 i xDrive  14,480 mi.   \n",
       "7                   2020 BMW X5 xDrive40i  47,931 mi.   \n",
       "8                   2020 BMW X5 xDrive40i  34,769 mi.   \n",
       "9                   2019 BMW 750 i xDrive  50,663 mi.   \n",
       "10                     2021 BMW 330e 330e  11,592 mi.   \n",
       "11       2020 BMW 430 Gran Coupe i xDrive  46,914 mi.   \n",
       "12                  2020 BMW 530 i xDrive  31,510 mi.   \n",
       "13                  2019 BMW X3 xDrive30i  41,826 mi.   \n",
       "14                  2022 BMW 530 i xDrive  24,961 mi.   \n",
       "15                  2021 BMW X2 sDrive28i  34,751 mi.   \n",
       "16                  2021 BMW 330 i xDrive  29,874 mi.   \n",
       "17                  2020 BMW X5 xDrive40i  28,533 mi.   \n",
       "18                  2020 BMW X5 xDrive40i  38,031 mi.   \n",
       "19                  2019 BMW X5 xDrive40i  37,293 mi.   \n",
       "20                  2021 BMW X2 sDrive28i  30,296 mi.   \n",
       "\n",
       "                          Dealer Name Rating Review Count    Price  \n",
       "0                          Ferman BMW    4.7       6,033   $65,400  \n",
       "1               Fields BMW of Daytona    4.8       1,298   $34,879  \n",
       "2               Fields BMW of Daytona    4.8       1,298   $34,978  \n",
       "3               Fields BMW of Daytona    4.8       1,298   $37,479  \n",
       "4                BMW of South Atlanta    4.3         486   $54,420  \n",
       "5                     BMW of Sterling    3.9       1,096   $72,000  \n",
       "6                         Preston BMW    2.4         134   $71,206  \n",
       "7                         Preston BMW    2.4         134   $44,586  \n",
       "8                         Preston BMW    2.4         134   $50,007  \n",
       "9   Classic BMW Mini Willoughby Hills    4.6         312   $47,474  \n",
       "10                        Perillo BMW    4.7         623   $37,999  \n",
       "11                        Perillo BMW    4.7         623   $32,999  \n",
       "12                        Perillo BMW    4.7         623   $37,488  \n",
       "13                        Perillo BMW    4.7         623   $34,488  \n",
       "14                        Perillo BMW    4.7         623   $46,488  \n",
       "15                        Perillo BMW    4.7         623   $30,488  \n",
       "16                        Perillo BMW    4.7         623   $33,488  \n",
       "17                        Perillo BMW    4.7         623   $47,999  \n",
       "18                        Perillo BMW    4.7         623   $45,488  \n",
       "19                        Perillo BMW    4.7         623   $46,488  \n",
       "20                        Perillo BMW    4.7         623   $30,488  "
      ]
     },
     "execution_count": 26,
     "metadata": {},
     "output_type": "execute_result"
    }
   ],
   "source": [
    "# dataframe updated\n",
    "car_dealer"
   ]
  },
  {
   "cell_type": "markdown",
   "metadata": {},
   "source": [
    "### Save data to excel"
   ]
  },
  {
   "cell_type": "code",
   "execution_count": 48,
   "metadata": {},
   "outputs": [],
   "source": [
    "car_dealer.to_excel('cars_data_singlepage.xlsx', index=False)"
   ]
  },
  {
   "cell_type": "markdown",
   "metadata": {},
   "source": [
    "### Part 2 - Pagination "
   ]
  },
  {
   "cell_type": "code",
   "execution_count": 41,
   "metadata": {},
   "outputs": [],
   "source": [
    "name = []\n",
    "mileage = []\n",
    "dealer_name = []\n",
    "rating = []\n",
    "review_count = []\n",
    "price = []\n",
    "\n",
    "for i in range (1,11):\n",
    "    \n",
    "    # website in variable. Getting the link using the class sds-pagination__item\n",
    "    website = 'https://www.cars.com/shopping/results/?page='+ str(i) +'&page_size=20&dealer_id=&list_price_max=&list_price_min=&makes[]=bmw&maximum_distance=20&mileage_max=&sort=best_match_desc&stock_type=cpo&year_max=&year_min=&zip=33613' \n",
    "    \n",
    "    # request to website\n",
    "    response = requests.get(website)\n",
    "    \n",
    "    # soup object\n",
    "    soup = BeautifulSoup(response.content, 'html.parser')\n",
    "    \n",
    "    # results\n",
    "    results = soup.find_all('div', {'class' : 'vehicle-card'})\n",
    "    \n",
    "    # loop through results\n",
    "    for result in results:\n",
    "    \n",
    "        # name\n",
    "        try:\n",
    "            name.append(result.find('h2').get_text()) \n",
    "        except:\n",
    "            name.append('n/a')\n",
    "\n",
    "        # mileage\n",
    "        try:\n",
    "            mileage.append(result.find('div', {'class':'mileage'}).get_text())\n",
    "        except:\n",
    "            mileage.append('n/a')\n",
    "\n",
    "        # dealer_name\n",
    "        try:\n",
    "            dealer_name.append(result.find('div', {'class':'dealer-name'}).get_text().strip())\n",
    "        except:\n",
    "            dealer_name.append('n/a')\n",
    "\n",
    "        # rating\n",
    "        try:\n",
    "            rating.append(result.find('span', {'class':'sds-rating__count'}).get_text())\n",
    "        except:\n",
    "            rating.append('n/a')\n",
    "\n",
    "        # review_count\n",
    "        try:\n",
    "            review_count.append(result.find('span', {'class':'sds-rating__link'}).get_text())\n",
    "        except:\n",
    "            review_count.append('n/a')\n",
    "\n",
    "        #price \n",
    "        try:\n",
    "            price.append(result.find('span', {'class':'primary-price'}).get_text())\n",
    "        except:\n",
    "            price.append('n/a')"
   ]
  },
  {
   "cell_type": "code",
   "execution_count": 42,
   "metadata": {},
   "outputs": [],
   "source": [
    "# dictionary\n",
    "car_dealer = pd.DataFrame({'Name': name, 'Mileage':mileage, 'Dealer Name':dealer_name,\n",
    "                                'Rating': rating, 'Review Count': review_count, 'Price': price})"
   ]
  },
  {
   "cell_type": "code",
   "execution_count": 43,
   "metadata": {},
   "outputs": [
    {
     "data": {
      "text/html": [
       "<div>\n",
       "<style scoped>\n",
       "    .dataframe tbody tr th:only-of-type {\n",
       "        vertical-align: middle;\n",
       "    }\n",
       "\n",
       "    .dataframe tbody tr th {\n",
       "        vertical-align: top;\n",
       "    }\n",
       "\n",
       "    .dataframe thead th {\n",
       "        text-align: right;\n",
       "    }\n",
       "</style>\n",
       "<table border=\"1\" class=\"dataframe\">\n",
       "  <thead>\n",
       "    <tr style=\"text-align: right;\">\n",
       "      <th></th>\n",
       "      <th>Name</th>\n",
       "      <th>Mileage</th>\n",
       "      <th>Dealer Name</th>\n",
       "      <th>Rating</th>\n",
       "      <th>Review Count</th>\n",
       "      <th>Price</th>\n",
       "    </tr>\n",
       "  </thead>\n",
       "  <tbody>\n",
       "    <tr>\n",
       "      <th>0</th>\n",
       "      <td>2023 BMW M440 Gran Coupe M440i xDrive</td>\n",
       "      <td>2,103 mi.</td>\n",
       "      <td>Ferman BMW</td>\n",
       "      <td>4.7</td>\n",
       "      <td>(6,033 reviews)</td>\n",
       "      <td>$65,400</td>\n",
       "    </tr>\n",
       "    <tr>\n",
       "      <th>1</th>\n",
       "      <td>2020 BMW 228 Gran Coupe i xDrive</td>\n",
       "      <td>28,447 mi.</td>\n",
       "      <td>BMW of Tampa</td>\n",
       "      <td>4.7</td>\n",
       "      <td>(1,453 reviews)</td>\n",
       "      <td>$31,568</td>\n",
       "    </tr>\n",
       "    <tr>\n",
       "      <th>2</th>\n",
       "      <td>2022 BMW X5 PHEV xDrive45e</td>\n",
       "      <td>14,645 mi.</td>\n",
       "      <td>BMW of Tampa</td>\n",
       "      <td>4.7</td>\n",
       "      <td>(1,453 reviews)</td>\n",
       "      <td>$70,569</td>\n",
       "    </tr>\n",
       "    <tr>\n",
       "      <th>3</th>\n",
       "      <td>2019 BMW X5 xDrive40i</td>\n",
       "      <td>30,113 mi.</td>\n",
       "      <td>BMW of Tampa</td>\n",
       "      <td>4.7</td>\n",
       "      <td>(1,453 reviews)</td>\n",
       "      <td>$49,000</td>\n",
       "    </tr>\n",
       "    <tr>\n",
       "      <th>4</th>\n",
       "      <td>2020 BMW M760 i xDrive</td>\n",
       "      <td>43,854 mi.</td>\n",
       "      <td>BMW of Tampa</td>\n",
       "      <td>4.7</td>\n",
       "      <td>(1,453 reviews)</td>\n",
       "      <td>$73,000</td>\n",
       "    </tr>\n",
       "    <tr>\n",
       "      <th>...</th>\n",
       "      <td>...</td>\n",
       "      <td>...</td>\n",
       "      <td>...</td>\n",
       "      <td>...</td>\n",
       "      <td>...</td>\n",
       "      <td>...</td>\n",
       "    </tr>\n",
       "    <tr>\n",
       "      <th>163</th>\n",
       "      <td>2020 BMW X5 xDrive40i</td>\n",
       "      <td>46,805 mi.</td>\n",
       "      <td>BMW of Sarasota</td>\n",
       "      <td>n/a</td>\n",
       "      <td>n/a</td>\n",
       "      <td>$48,154</td>\n",
       "    </tr>\n",
       "    <tr>\n",
       "      <th>164</th>\n",
       "      <td>2019 BMW X7 xDrive40i</td>\n",
       "      <td>38,364 mi.</td>\n",
       "      <td>BMW of Ocala</td>\n",
       "      <td>n/a</td>\n",
       "      <td>n/a</td>\n",
       "      <td>$56,623</td>\n",
       "    </tr>\n",
       "    <tr>\n",
       "      <th>165</th>\n",
       "      <td>2021 BMW 228 Gran Coupe i xDrive</td>\n",
       "      <td>10,375 mi.</td>\n",
       "      <td>BMW of Ocala</td>\n",
       "      <td>n/a</td>\n",
       "      <td>n/a</td>\n",
       "      <td>$34,822</td>\n",
       "    </tr>\n",
       "    <tr>\n",
       "      <th>166</th>\n",
       "      <td>2019 BMW X5 xDrive40i</td>\n",
       "      <td>33,700 mi.</td>\n",
       "      <td>BMW of Sarasota</td>\n",
       "      <td>n/a</td>\n",
       "      <td>n/a</td>\n",
       "      <td>$47,693</td>\n",
       "    </tr>\n",
       "    <tr>\n",
       "      <th>167</th>\n",
       "      <td>2020 BMW X7 M50i</td>\n",
       "      <td>32,380 mi.</td>\n",
       "      <td>BMW of Sarasota</td>\n",
       "      <td>n/a</td>\n",
       "      <td>n/a</td>\n",
       "      <td>$71,274</td>\n",
       "    </tr>\n",
       "  </tbody>\n",
       "</table>\n",
       "<p>168 rows × 6 columns</p>\n",
       "</div>"
      ],
      "text/plain": [
       "                                      Name     Mileage      Dealer Name  \\\n",
       "0    2023 BMW M440 Gran Coupe M440i xDrive   2,103 mi.       Ferman BMW   \n",
       "1         2020 BMW 228 Gran Coupe i xDrive  28,447 mi.     BMW of Tampa   \n",
       "2               2022 BMW X5 PHEV xDrive45e  14,645 mi.     BMW of Tampa   \n",
       "3                    2019 BMW X5 xDrive40i  30,113 mi.     BMW of Tampa   \n",
       "4                   2020 BMW M760 i xDrive  43,854 mi.     BMW of Tampa   \n",
       "..                                     ...         ...              ...   \n",
       "163                  2020 BMW X5 xDrive40i  46,805 mi.  BMW of Sarasota   \n",
       "164                  2019 BMW X7 xDrive40i  38,364 mi.     BMW of Ocala   \n",
       "165       2021 BMW 228 Gran Coupe i xDrive  10,375 mi.     BMW of Ocala   \n",
       "166                  2019 BMW X5 xDrive40i  33,700 mi.  BMW of Sarasota   \n",
       "167                       2020 BMW X7 M50i  32,380 mi.  BMW of Sarasota   \n",
       "\n",
       "    Rating     Review Count    Price  \n",
       "0      4.7  (6,033 reviews)  $65,400  \n",
       "1      4.7  (1,453 reviews)  $31,568  \n",
       "2      4.7  (1,453 reviews)  $70,569  \n",
       "3      4.7  (1,453 reviews)  $49,000  \n",
       "4      4.7  (1,453 reviews)  $73,000  \n",
       "..     ...              ...      ...  \n",
       "163    n/a              n/a  $48,154  \n",
       "164    n/a              n/a  $56,623  \n",
       "165    n/a              n/a  $34,822  \n",
       "166    n/a              n/a  $47,693  \n",
       "167    n/a              n/a  $71,274  \n",
       "\n",
       "[168 rows x 6 columns]"
      ]
     },
     "execution_count": 43,
     "metadata": {},
     "output_type": "execute_result"
    }
   ],
   "source": [
    "car_dealer"
   ]
  },
  {
   "cell_type": "code",
   "execution_count": 44,
   "metadata": {},
   "outputs": [],
   "source": [
    "car_dealer['Review Count'] = car_dealer['Review Count'].apply(lambda x: x.strip('reviews)').strip('('))"
   ]
  },
  {
   "cell_type": "code",
   "execution_count": 45,
   "metadata": {},
   "outputs": [
    {
     "data": {
      "text/html": [
       "<div>\n",
       "<style scoped>\n",
       "    .dataframe tbody tr th:only-of-type {\n",
       "        vertical-align: middle;\n",
       "    }\n",
       "\n",
       "    .dataframe tbody tr th {\n",
       "        vertical-align: top;\n",
       "    }\n",
       "\n",
       "    .dataframe thead th {\n",
       "        text-align: right;\n",
       "    }\n",
       "</style>\n",
       "<table border=\"1\" class=\"dataframe\">\n",
       "  <thead>\n",
       "    <tr style=\"text-align: right;\">\n",
       "      <th></th>\n",
       "      <th>Name</th>\n",
       "      <th>Mileage</th>\n",
       "      <th>Dealer Name</th>\n",
       "      <th>Rating</th>\n",
       "      <th>Review Count</th>\n",
       "      <th>Price</th>\n",
       "    </tr>\n",
       "  </thead>\n",
       "  <tbody>\n",
       "    <tr>\n",
       "      <th>0</th>\n",
       "      <td>2023 BMW M440 Gran Coupe M440i xDrive</td>\n",
       "      <td>2,103 mi.</td>\n",
       "      <td>Ferman BMW</td>\n",
       "      <td>4.7</td>\n",
       "      <td>6,033</td>\n",
       "      <td>$65,400</td>\n",
       "    </tr>\n",
       "    <tr>\n",
       "      <th>1</th>\n",
       "      <td>2020 BMW 228 Gran Coupe i xDrive</td>\n",
       "      <td>28,447 mi.</td>\n",
       "      <td>BMW of Tampa</td>\n",
       "      <td>4.7</td>\n",
       "      <td>1,453</td>\n",
       "      <td>$31,568</td>\n",
       "    </tr>\n",
       "    <tr>\n",
       "      <th>2</th>\n",
       "      <td>2022 BMW X5 PHEV xDrive45e</td>\n",
       "      <td>14,645 mi.</td>\n",
       "      <td>BMW of Tampa</td>\n",
       "      <td>4.7</td>\n",
       "      <td>1,453</td>\n",
       "      <td>$70,569</td>\n",
       "    </tr>\n",
       "    <tr>\n",
       "      <th>3</th>\n",
       "      <td>2019 BMW X5 xDrive40i</td>\n",
       "      <td>30,113 mi.</td>\n",
       "      <td>BMW of Tampa</td>\n",
       "      <td>4.7</td>\n",
       "      <td>1,453</td>\n",
       "      <td>$49,000</td>\n",
       "    </tr>\n",
       "    <tr>\n",
       "      <th>4</th>\n",
       "      <td>2020 BMW M760 i xDrive</td>\n",
       "      <td>43,854 mi.</td>\n",
       "      <td>BMW of Tampa</td>\n",
       "      <td>4.7</td>\n",
       "      <td>1,453</td>\n",
       "      <td>$73,000</td>\n",
       "    </tr>\n",
       "    <tr>\n",
       "      <th>...</th>\n",
       "      <td>...</td>\n",
       "      <td>...</td>\n",
       "      <td>...</td>\n",
       "      <td>...</td>\n",
       "      <td>...</td>\n",
       "      <td>...</td>\n",
       "    </tr>\n",
       "    <tr>\n",
       "      <th>163</th>\n",
       "      <td>2020 BMW X5 xDrive40i</td>\n",
       "      <td>46,805 mi.</td>\n",
       "      <td>BMW of Sarasota</td>\n",
       "      <td>n/a</td>\n",
       "      <td>n/a</td>\n",
       "      <td>$48,154</td>\n",
       "    </tr>\n",
       "    <tr>\n",
       "      <th>164</th>\n",
       "      <td>2019 BMW X7 xDrive40i</td>\n",
       "      <td>38,364 mi.</td>\n",
       "      <td>BMW of Ocala</td>\n",
       "      <td>n/a</td>\n",
       "      <td>n/a</td>\n",
       "      <td>$56,623</td>\n",
       "    </tr>\n",
       "    <tr>\n",
       "      <th>165</th>\n",
       "      <td>2021 BMW 228 Gran Coupe i xDrive</td>\n",
       "      <td>10,375 mi.</td>\n",
       "      <td>BMW of Ocala</td>\n",
       "      <td>n/a</td>\n",
       "      <td>n/a</td>\n",
       "      <td>$34,822</td>\n",
       "    </tr>\n",
       "    <tr>\n",
       "      <th>166</th>\n",
       "      <td>2019 BMW X5 xDrive40i</td>\n",
       "      <td>33,700 mi.</td>\n",
       "      <td>BMW of Sarasota</td>\n",
       "      <td>n/a</td>\n",
       "      <td>n/a</td>\n",
       "      <td>$47,693</td>\n",
       "    </tr>\n",
       "    <tr>\n",
       "      <th>167</th>\n",
       "      <td>2020 BMW X7 M50i</td>\n",
       "      <td>32,380 mi.</td>\n",
       "      <td>BMW of Sarasota</td>\n",
       "      <td>n/a</td>\n",
       "      <td>n/a</td>\n",
       "      <td>$71,274</td>\n",
       "    </tr>\n",
       "  </tbody>\n",
       "</table>\n",
       "<p>168 rows × 6 columns</p>\n",
       "</div>"
      ],
      "text/plain": [
       "                                      Name     Mileage      Dealer Name  \\\n",
       "0    2023 BMW M440 Gran Coupe M440i xDrive   2,103 mi.       Ferman BMW   \n",
       "1         2020 BMW 228 Gran Coupe i xDrive  28,447 mi.     BMW of Tampa   \n",
       "2               2022 BMW X5 PHEV xDrive45e  14,645 mi.     BMW of Tampa   \n",
       "3                    2019 BMW X5 xDrive40i  30,113 mi.     BMW of Tampa   \n",
       "4                   2020 BMW M760 i xDrive  43,854 mi.     BMW of Tampa   \n",
       "..                                     ...         ...              ...   \n",
       "163                  2020 BMW X5 xDrive40i  46,805 mi.  BMW of Sarasota   \n",
       "164                  2019 BMW X7 xDrive40i  38,364 mi.     BMW of Ocala   \n",
       "165       2021 BMW 228 Gran Coupe i xDrive  10,375 mi.     BMW of Ocala   \n",
       "166                  2019 BMW X5 xDrive40i  33,700 mi.  BMW of Sarasota   \n",
       "167                       2020 BMW X7 M50i  32,380 mi.  BMW of Sarasota   \n",
       "\n",
       "    Rating Review Count    Price  \n",
       "0      4.7       6,033   $65,400  \n",
       "1      4.7       1,453   $31,568  \n",
       "2      4.7       1,453   $70,569  \n",
       "3      4.7       1,453   $49,000  \n",
       "4      4.7       1,453   $73,000  \n",
       "..     ...          ...      ...  \n",
       "163    n/a          n/a  $48,154  \n",
       "164    n/a          n/a  $56,623  \n",
       "165    n/a          n/a  $34,822  \n",
       "166    n/a          n/a  $47,693  \n",
       "167    n/a          n/a  $71,274  \n",
       "\n",
       "[168 rows x 6 columns]"
      ]
     },
     "execution_count": 45,
     "metadata": {},
     "output_type": "execute_result"
    }
   ],
   "source": [
    "car_dealer"
   ]
  },
  {
   "cell_type": "markdown",
   "metadata": {},
   "source": [
    "### Save file to Excel"
   ]
  },
  {
   "cell_type": "code",
   "execution_count": 49,
   "metadata": {},
   "outputs": [],
   "source": [
    "car_dealer.to_excel('cars_data.xlsx', index=False)"
   ]
  },
  {
   "cell_type": "code",
   "execution_count": null,
   "metadata": {},
   "outputs": [],
   "source": []
  }
 ],
 "metadata": {
  "kernelspec": {
   "display_name": "Python 3 (ipykernel)",
   "language": "python",
   "name": "python3"
  },
  "language_info": {
   "codemirror_mode": {
    "name": "ipython",
    "version": 3
   },
   "file_extension": ".py",
   "mimetype": "text/x-python",
   "name": "python",
   "nbconvert_exporter": "python",
   "pygments_lexer": "ipython3",
   "version": "3.11.3"
  }
 },
 "nbformat": 4,
 "nbformat_minor": 4
}
